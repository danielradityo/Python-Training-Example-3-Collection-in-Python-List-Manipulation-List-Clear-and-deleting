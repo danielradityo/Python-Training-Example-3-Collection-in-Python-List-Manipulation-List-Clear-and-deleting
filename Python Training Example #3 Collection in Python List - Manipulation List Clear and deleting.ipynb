{
 "cells": [
  {
   "cell_type": "markdown",
   "metadata": {},
   "source": [
    "# Python Training Example #3 Collection in Python List - Manipulation List Clear and deleting"
   ]
  },
  {
   "cell_type": "code",
   "execution_count": 2,
   "metadata": {},
   "outputs": [],
   "source": [
    "# Create a List\n",
    "land_vehicle = ['Car', 'Motorcycle', 'Bycycle', 'Bus', 'Truck', 'Train']\n",
    "water_vehicle = ['Boat', 'Ferry', 'Ship', 'Submarine', 'Yacht', 'Sail boat']\n",
    "people_use = ['Car', 'Car', 'Motorcycle', 'Bycycle', 'Bycycle', 'Motocyle', 'Car', 'Motorcycle', 'Bycycle', 'Car', 'Motorcycle', 'Car', 'Motorcycle', 'Bycycle']"
   ]
  },
  {
   "cell_type": "markdown",
   "metadata": {},
   "source": [
    "## .clear()"
   ]
  },
  {
   "cell_type": "code",
   "execution_count": 3,
   "metadata": {},
   "outputs": [
    {
     "name": "stdout",
     "output_type": "stream",
     "text": [
      "[]\n"
     ]
    }
   ],
   "source": [
    "# clear list\n",
    "land_vehicle.clear()\n",
    "print(land_vehicle)"
   ]
  },
  {
   "cell_type": "markdown",
   "metadata": {},
   "source": [
    "## .pop()"
   ]
  },
  {
   "cell_type": "code",
   "execution_count": 7,
   "metadata": {},
   "outputs": [
    {
     "name": "stdout",
     "output_type": "stream",
     "text": [
      "['Boat', 'Ferry', 'Submarine', 'Yacht', 'Sail boat']\n"
     ]
    }
   ],
   "source": [
    "# pop list with index\n",
    "water_vehicle.pop(2) # will pop (delete) list at index 2\n",
    "print(water_vehicle)"
   ]
  },
  {
   "cell_type": "markdown",
   "metadata": {},
   "source": [
    "## .remove()"
   ]
  },
  {
   "cell_type": "code",
   "execution_count": 8,
   "metadata": {},
   "outputs": [
    {
     "name": "stdout",
     "output_type": "stream",
     "text": [
      "['Boat', 'Ferry', 'Yacht', 'Sail boat']\n"
     ]
    }
   ],
   "source": [
    "# remove list will detele parameter\n",
    "water_vehicle.remove('Submarine') # will remove list with parameter Submarine\n",
    "print(water_vehicle)"
   ]
  }
 ],
 "metadata": {
  "kernelspec": {
   "display_name": "Python 3",
   "language": "python",
   "name": "python3"
  },
  "language_info": {
   "codemirror_mode": {
    "name": "ipython",
    "version": 3
   },
   "file_extension": ".py",
   "mimetype": "text/x-python",
   "name": "python",
   "nbconvert_exporter": "python",
   "pygments_lexer": "ipython3",
   "version": "3.8.5"
  }
 },
 "nbformat": 4,
 "nbformat_minor": 4
}
